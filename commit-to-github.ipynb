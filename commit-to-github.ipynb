{
 "cells": [
  {
   "cell_type": "code",
   "execution_count": 1,
   "metadata": {},
   "outputs": [],
   "source": [
    "!git config --global user.name \"lyhue1991\"\n",
    "!git config --global user.email \"lyhue1991@163.com\"\n",
    "\n",
    "# 出现一些类似 warning: LF will be replaced by CRLF in <file-name>. 可启用如下设置。\n",
    "!git config --global core.autocrlf false\n",
    "\n",
    "# 配置打印历史commit的快捷命令\n",
    "!git config --global alias.lg \"log --oneline --graph --all\""
   ]
  },
  {
   "cell_type": "code",
   "execution_count": 1,
   "metadata": {
    "ExecuteTime": {
     "end_time": "2020-08-22T11:09:34.731929Z",
     "start_time": "2020-08-22T11:09:34.556119Z"
    }
   },
   "outputs": [
    {
     "name": "stdout",
     "output_type": "stream",
     "text": [
      "Reinitialized existing Git repository in /Users/liangyun/CodeFiles/PythonAiRoad/.git/\r\n"
     ]
    }
   ],
   "source": [
    "!git init"
   ]
  },
  {
   "cell_type": "code",
   "execution_count": 3,
   "metadata": {
    "ExecuteTime": {
     "end_time": "2020-09-07T01:41:38.941843Z",
     "start_time": "2020-09-07T01:41:38.692546Z"
    }
   },
   "outputs": [],
   "source": [
    "!git add -A "
   ]
  },
  {
   "cell_type": "code",
   "execution_count": 4,
   "metadata": {
    "ExecuteTime": {
     "end_time": "2020-09-07T01:41:47.324431Z",
     "start_time": "2020-09-07T01:41:47.088699Z"
    }
   },
   "outputs": [
    {
     "name": "stdout",
     "output_type": "stream",
     "text": [
      "[master bcb972c] add linux\n",
      " 95 files changed, 49728 deletions(-)\n",
      " delete mode 100644 data/公众号_files/0\n",
      " delete mode 100644 data/公众号_files/0(1)\n",
      " delete mode 100644 data/公众号_files/0(2)\n",
      " delete mode 100644 data/公众号_files/0(3)\n",
      " delete mode 100644 data/公众号_files/64\n",
      " delete mode 100644 data/公众号_files/account-email4b4fb5.svg\n",
      " delete mode 100644 data/公众号_files/account-logout49d02c.svg\n",
      " delete mode 100644 data/公众号_files/account-setting49d02c.svg\n",
      " delete mode 100644 data/公众号_files/account-user49d02c.svg\n",
      " delete mode 100644 data/公众号_files/account-wxverify49d02c.svg\n",
      " delete mode 100644 data/公众号_files/adv50084a.js\n",
      " delete mode 100644 data/公众号_files/appmsg_edit_v250ceaf.js\n",
      " delete mode 100644 data/公众号_files/appmsg_new50cdcf.css\n",
      " delete mode 100644 data/公众号_files/appmsg_new50ceaf.css\n",
      " delete mode 100644 data/公众号_files/article_tags_dialog.tpl504795.js\n",
      " delete mode 100644 data/公众号_files/audio_music_dialog4d1584.js\n",
      " delete mode 100644 data/公众号_files/author_recent492dc0.js\n",
      " delete mode 100644 data/公众号_files/badjs4fe1e5.js\n",
      " delete mode 100644 data/公众号_files/base4fdc05.css\n",
      " delete mode 100644 data/公众号_files/blob492dbd.js\n",
      " delete mode 100644 data/公众号_files/blockquote_dialog.css4c67b6.js\n",
      " delete mode 100644 data/公众号_files/card_media49d030.css\n",
      " delete mode 100644 data/公众号_files/card_preview.html492dc0.js\n",
      " delete mode 100644 data/公众号_files/chooseOriArticlePubPopover.html492dc0.js\n",
      " delete mode 100644 data/公众号_files/claim_original_dialog.tpl509a8d.js\n",
      " delete mode 100644 data/公众号_files/colorpicker49d030.css\n",
      " delete mode 100644 data/公众号_files/comm_report4f5fab.js\n",
      " delete mode 100644 data/公众号_files/comm_store4f5329.js\n",
      " delete mode 100644 data/公众号_files/common504798.js\n",
      " delete mode 100644 data/公众号_files/cps_dialog50bc52.js\n",
      " delete mode 100644 data/公众号_files/date_range4c67b6.css\n",
      " delete mode 100644 data/公众号_files/drawing.js\n",
      " delete mode 100644 data/公众号_files/dropdown_item.css49d027.js\n",
      " delete mode 100644 data/公众号_files/edit_media49d030.css\n",
      " delete mode 100644 data/公众号_files/events492dc0.js\n",
      " delete mode 100644 data/公众号_files/filednd4df180.js\n",
      " delete mode 100644 data/公众号_files/get_article_structure50cc03.js\n",
      " delete mode 100644 data/公众号_files/image_crop4f932a.js\n",
      " delete mode 100644 data/公众号_files/input.css4c67b4.js\n",
      " delete mode 100644 data/公众号_files/integer492dbd.js\n",
      " delete mode 100644 data/公众号_files/jquery.scrollbar49d030.css\n",
      " delete mode 100644 data/公众号_files/js\n",
      " delete mode 100644 data/公众号_files/js(1)\n",
      " delete mode 100644 data/公众号_files/jserr445214.js\n",
      " delete mode 100644 data/公众号_files/layout_head4c67b6.css\n",
      " delete mode 100644 data/公众号_files/legal_check_dialog4e9a84.js\n",
      " delete mode 100644 data/公众号_files/lib492dc0.js\n",
      " delete mode 100644 data/公众号_files/lib49d030.css\n",
      " delete mode 100644 data/公众号_files/live_dialog507462.js\n",
      " delete mode 100644 data/公众号_files/main.js\n",
      " delete mode 100644 data/公众号_files/media_cps4daee3.css\n",
      " delete mode 100644 data/公众号_files/member_info_flag492dc0.js\n",
      " delete mode 100644 data/公众号_files/message_cgi504798.js\n",
      " delete mode 100644 data/公众号_files/mixins4d1584.js\n",
      " delete mode 100644 data/公众号_files/mpExtensionReport492dc0.js\n",
      " delete mode 100644 data/公众号_files/msg_operate_type_html492dc0.js\n",
      " delete mode 100644 data/公众号_files/music_card.html4af45d.js\n",
      " delete mode 100644 data/公众号_files/music_check_dialog4b386f.js\n",
      " delete mode 100644 data/公众号_files/outer_link4b2ca1.js\n",
      " delete mode 100644 data/公众号_files/page_msg.html492dc0.js\n",
      " delete mode 100644 data/公众号_files/payStatementDialog4Web14fa849.js\n",
      " delete mode 100644 data/公众号_files/pic_kf_qrcode.jpg\n",
      " delete mode 100644 data/公众号_files/pluginsList50cdcf.js\n",
      " delete mode 100644 data/公众号_files/polyfill492dbb.js\n",
      " delete mode 100644 data/公众号_files/popover4d1583.js\n",
      " delete mode 100644 data/公众号_files/preview_media504798.css\n",
      " delete mode 100644 data/公众号_files/productUtils492dc0.js\n",
      " delete mode 100644 data/公众号_files/product_import_select_result.html492dc0.js\n",
      " delete mode 100644 data/公众号_files/qrcode_scan49d030.css\n",
      " delete mode 100644 data/公众号_files/radio4d1583.js\n",
      " delete mode 100644 data/公众号_files/red_package_cover.html4b3872.js\n",
      " delete mode 100644 data/公众号_files/saved_resource(1).html\n",
      " delete mode 100644 data/公众号_files/saved_resource.html\n",
      " delete mode 100644 data/公众号_files/sea492dc0.js\n",
      " delete mode 100644 data/公众号_files/search_word502487.js\n",
      " delete mode 100644 data/公众号_files/sharecopyright_dialog.html4e7ef5.js\n",
      " delete mode 100644 data/公众号_files/step4d1583.js\n",
      " delete mode 100644 data/公众号_files/symbol4273fb.js\n",
      " delete mode 100644 data/公众号_files/table.css4e570a.js\n",
      " delete mode 100644 data/公众号_files/template_common4c043a.js\n",
      " delete mode 100644 data/公众号_files/time_picker.tpl49d02b.js\n",
      " delete mode 100644 data/公众号_files/tooltip49d030.css\n",
      " delete mode 100644 data/公众号_files/tooltip509a8d.js\n",
      " delete mode 100644 data/公众号_files/uploader492dbc.js\n",
      " delete mode 100644 data/公众号_files/util492dbc.js\n",
      " delete mode 100644 data/公众号_files/utils492dbc.js\n",
      " delete mode 100644 data/公众号_files/utils4e18b1.js\n",
      " delete mode 100644 data/公众号_files/verify_code4d1583.js\n",
      " delete mode 100644 data/公众号_files/video_article50ceaf.js\n",
      " delete mode 100644 data/公众号_files/video_popup.css48dd43.js\n",
      " delete mode 100644 data/公众号_files/vue.2.6.10492dbc.js\n",
      " delete mode 100644 data/公众号_files/weui-desktop_skin50cdcf.css\n",
      " delete mode 100644 data/公众号_files/wx504a75.js\n",
      " delete mode 100644 data/公众号_files/wysiwyg4d17e5.js\n",
      " delete mode 100644 data/公众号_files/zoom3a7b38.swf.下载\n"
     ]
    }
   ],
   "source": [
    "!git commit -m\"add linux\""
   ]
  },
  {
   "cell_type": "code",
   "execution_count": 5,
   "metadata": {},
   "outputs": [],
   "source": [
    "!git remote add origin https://github.com/lyhue1991/PythonAiRoad"
   ]
  },
  {
   "cell_type": "code",
   "execution_count": 5,
   "metadata": {
    "ExecuteTime": {
     "end_time": "2020-09-07T01:41:57.080849Z",
     "start_time": "2020-09-07T01:41:50.210110Z"
    }
   },
   "outputs": [
    {
     "name": "stdout",
     "output_type": "stream",
     "text": [
      "Enumerating objects: 115, done.\n",
      "Counting objects: 100% (115/115), done.\n",
      "Delta compression using up to 4 threads\n",
      "Compressing objects: 100% (110/110), done.\n",
      "Writing objects: 100% (110/110), 2.40 MiB | 314.00 KiB/s, done.\n",
      "Total 110 (delta 13), reused 0 (delta 0)\n",
      "remote: Resolving deltas: 100% (13/13), completed with 5 local objects.\u001b[K\n",
      "To https://github.com/lyhue1991/PythonAiRoad\n",
      "   cba9f74..bcb972c  master -> master\n"
     ]
    }
   ],
   "source": [
    "!git push origin master "
   ]
  },
  {
   "cell_type": "code",
   "execution_count": null,
   "metadata": {},
   "outputs": [],
   "source": [
    "!git rebase origin/master"
   ]
  }
 ],
 "metadata": {
  "kernelspec": {
   "display_name": "Python 3",
   "language": "python",
   "name": "python3"
  },
  "language_info": {
   "codemirror_mode": {
    "name": "ipython",
    "version": 3
   },
   "file_extension": ".py",
   "mimetype": "text/x-python",
   "name": "python",
   "nbconvert_exporter": "python",
   "pygments_lexer": "ipython3",
   "version": "3.7.3"
  }
 },
 "nbformat": 4,
 "nbformat_minor": 2
}
