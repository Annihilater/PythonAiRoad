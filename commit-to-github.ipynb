{
 "cells": [
  {
   "cell_type": "code",
   "execution_count": 2,
   "metadata": {},
   "outputs": [],
   "source": [
    "!git config --global user.name \"lyhue1991\"\n",
    "!git config --global user.email \"lyhue1991@163.com\"\n",
    "\n",
    "# 出现一些类似 warning: LF will be replaced by CRLF in <file-name>. 可启用如下设置。\n",
    "!git config --global core.autocrlf false\n",
    "\n",
    "# 配置打印历史commit的快捷命令\n",
    "!git config --global alias.lg \"log --oneline --graph --all\""
   ]
  },
  {
   "cell_type": "code",
   "execution_count": 1,
   "metadata": {
    "ExecuteTime": {
     "end_time": "2020-08-22T11:09:34.731929Z",
     "start_time": "2020-08-22T11:09:34.556119Z"
    }
   },
   "outputs": [
    {
     "name": "stdout",
     "output_type": "stream",
     "text": [
      "Reinitialized existing Git repository in /Users/liangyun/CodeFiles/PythonAiRoad/.git/\r\n"
     ]
    }
   ],
   "source": [
    "!git init"
   ]
  },
  {
   "cell_type": "code",
   "execution_count": 5,
   "metadata": {
    "ExecuteTime": {
     "end_time": "2020-09-07T01:41:38.941843Z",
     "start_time": "2020-09-07T01:41:38.692546Z"
    }
   },
   "outputs": [],
   "source": [
    "!git add -A "
   ]
  },
  {
   "cell_type": "code",
   "execution_count": 6,
   "metadata": {
    "ExecuteTime": {
     "end_time": "2020-09-07T01:41:47.324431Z",
     "start_time": "2020-09-07T01:41:47.088699Z"
    }
   },
   "outputs": [
    {
     "name": "stdout",
     "output_type": "stream",
     "text": [
      "[master 0b40682] add geopandas\r\n",
      " 1 file changed, 16 insertions(+), 13 deletions(-)\r\n"
     ]
    }
   ],
   "source": [
    "!git commit -m\"add geopandas\""
   ]
  },
  {
   "cell_type": "code",
   "execution_count": 7,
   "metadata": {},
   "outputs": [
    {
     "name": "stdout",
     "output_type": "stream",
     "text": [
      "fatal: remote origin already exists.\r\n"
     ]
    }
   ],
   "source": [
    "!git remote add origin git@github.com:lyhue1991/PythonAiRoad"
   ]
  },
  {
   "cell_type": "code",
   "execution_count": 8,
   "metadata": {},
   "outputs": [
    {
     "name": "stdout",
     "output_type": "stream",
     "text": [
      "usage: git remote set-url [--push] <name> <newurl> [<oldurl>]\r\n",
      "   or: git remote set-url --add <name> <newurl>\r\n",
      "   or: git remote set-url --delete <name> <url>\r\n",
      "\r\n",
      "    --push                manipulate push URLs\r\n",
      "    --add                 add URL\r\n",
      "    --delete              delete URLs\r\n",
      "\r\n"
     ]
    }
   ],
   "source": [
    "!git remote set-url origin"
   ]
  },
  {
   "cell_type": "code",
   "execution_count": 9,
   "metadata": {
    "ExecuteTime": {
     "end_time": "2020-09-07T01:41:57.080849Z",
     "start_time": "2020-09-07T01:41:50.210110Z"
    }
   },
   "outputs": [
    {
     "name": "stdout",
     "output_type": "stream",
     "text": [
      "Enumerating objects: 15, done.\n",
      "Counting objects: 100% (15/15), done.\n",
      "Delta compression using up to 4 threads\n",
      "Compressing objects: 100% (12/12), done.\n",
      "Writing objects: 100% (12/12), 736.63 KiB | 761.00 KiB/s, done.\n",
      "Total 12 (delta 4), reused 0 (delta 0)\n",
      "remote: Resolving deltas: 100% (4/4), completed with 3 local objects.\u001b[K\n",
      "To github.com:lyhue1991/PythonAiRoad\n",
      "   4719638..0b40682  master -> master\n"
     ]
    }
   ],
   "source": [
    "!git push origin master "
   ]
  },
  {
   "cell_type": "code",
   "execution_count": null,
   "metadata": {},
   "outputs": [],
   "source": [
    "!git rebase origin/master"
   ]
  }
 ],
 "metadata": {
  "kernelspec": {
   "display_name": "Python 3",
   "language": "python",
   "name": "python3"
  },
  "language_info": {
   "codemirror_mode": {
    "name": "ipython",
    "version": 3
   },
   "file_extension": ".py",
   "mimetype": "text/x-python",
   "name": "python",
   "nbconvert_exporter": "python",
   "pygments_lexer": "ipython3",
   "version": "3.7.3"
  }
 },
 "nbformat": 4,
 "nbformat_minor": 2
}
