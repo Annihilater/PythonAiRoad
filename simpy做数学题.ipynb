{
 "cells": [
  {
   "cell_type": "markdown",
   "metadata": {
    "slideshow": {
     "slide_type": "-"
    }
   },
   "source": [
    "# sympy，一个可以做数学题的Python库"
   ]
  },
  {
   "cell_type": "markdown",
   "metadata": {},
   "source": [
    "sympy 是 symbolic python 的简称，也就是一个支持代数符号计算的python库。\n",
    "\n",
    "它可以用来帮助我们解决从初中数学到高等数学的各类问题，包括但不限于:\n",
    "\n",
    "* 表达式化简，因式分解，方程求解，不等式求解。\n",
    "  \n",
    "* 求极限，求导，求积分，级数展开，解微分方程，级数求和。\n",
    "\n",
    "* 求概率，求期望，方差。\n",
    "  \n",
    "* 矩阵乘法，求行列式，矩阵求逆，矩阵分解。\n",
    "\n",
    "它的设计思想非常像强大的数学软件mathematica。\n",
    "\n",
    "我一般把它理解成一个python版的mathematica~ \n",
    "\n",
    "本文将先演示sympy的基础使用范例，然后讲解sympy的原理。\n"
   ]
  },
  {
   "cell_type": "markdown",
   "metadata": {},
   "source": [
    "## 〇，基本范例演示"
   ]
  },
  {
   "cell_type": "code",
   "execution_count": 2,
   "metadata": {},
   "outputs": [],
   "source": [
    "import sympy\n",
    "from sympy import sqrt,log,exp,sin,cos,tan,cot,Eq\n",
    "from sympy import S,oo,pi\n",
    "# 定义一些常见的代数符号\n",
    "x,y,z,a,b,c = sympy.symbols('x,y,z,a,b,c')"
   ]
  },
  {
   "cell_type": "code",
   "execution_count": 3,
   "metadata": {},
   "outputs": [
    {
     "data": {
      "text/latex": [
       "$\\displaystyle \\frac{x - 1}{x^{2} + 1}$"
      ],
      "text/plain": [
       "(x - 1)/(x**2 + 1)"
      ]
     },
     "execution_count": 3,
     "metadata": {},
     "output_type": "execute_result"
    }
   ],
   "source": [
    "#定义一个函数\n",
    "f = sympy.Lambda(x,(x-1)/(x**2+1))\n",
    "f(x)"
   ]
  },
  {
   "cell_type": "code",
   "execution_count": 4,
   "metadata": {},
   "outputs": [
    {
     "data": {
      "text/plain": [
       "[1]"
      ]
     },
     "execution_count": 4,
     "metadata": {},
     "output_type": "execute_result"
    }
   ],
   "source": [
    "#求方程 f(x)==0 \n",
    "sympy.solve(f(x),x)"
   ]
  },
  {
   "cell_type": "code",
   "execution_count": 5,
   "metadata": {},
   "outputs": [
    {
     "data": {
      "text/latex": [
       "$\\displaystyle 0$"
      ],
      "text/plain": [
       "0"
      ]
     },
     "execution_count": 5,
     "metadata": {},
     "output_type": "execute_result"
    }
   ],
   "source": [
    "#求极限 limit(f(x),x->∞)\n",
    "sympy.limit(f(x),x,oo)"
   ]
  },
  {
   "cell_type": "code",
   "execution_count": 6,
   "metadata": {},
   "outputs": [
    {
     "data": {
      "text/latex": [
       "$\\displaystyle - \\frac{2 x \\left(x - 1\\right)}{\\left(x^{2} + 1\\right)^{2}} + \\frac{1}{x^{2} + 1}$"
      ],
      "text/plain": [
       "-2*x*(x - 1)/(x**2 + 1)**2 + 1/(x**2 + 1)"
      ]
     },
     "execution_count": 6,
     "metadata": {},
     "output_type": "execute_result"
    }
   ],
   "source": [
    "#求导数\n",
    "sympy.diff(f(x),x) "
   ]
  },
  {
   "cell_type": "code",
   "execution_count": 7,
   "metadata": {},
   "outputs": [
    {
     "data": {
      "text/latex": [
       "$\\displaystyle \\frac{\\log{\\left(x^{2} + 1 \\right)}}{2} - \\operatorname{atan}{\\left(x \\right)}$"
      ],
      "text/plain": [
       "log(x**2 + 1)/2 - atan(x)"
      ]
     },
     "execution_count": 7,
     "metadata": {},
     "output_type": "execute_result"
    }
   ],
   "source": [
    "#求积分\n",
    "sympy.integrate(f(x),x) "
   ]
  },
  {
   "cell_type": "code",
   "execution_count": 8,
   "metadata": {},
   "outputs": [
    {
     "data": {
      "text/latex": [
       "$\\displaystyle -1 + x + x^{2} - x^{3} - x^{4} + O\\left(x^{5}\\right)$"
      ],
      "text/plain": [
       "-1 + x + x**2 - x**3 - x**4 + O(x**5)"
      ]
     },
     "execution_count": 8,
     "metadata": {},
     "output_type": "execute_result"
    }
   ],
   "source": [
    "#求级数展开 \n",
    "sympy.series(f(x),x,0,5)"
   ]
  },
  {
   "cell_type": "code",
   "execution_count": null,
   "metadata": {},
   "outputs": [],
   "source": []
  },
  {
   "cell_type": "markdown",
   "metadata": {},
   "source": [
    "## 一，符号和数字"
   ]
  },
  {
   "cell_type": "markdown",
   "metadata": {},
   "source": [
    "### 1， 定义符号"
   ]
  },
  {
   "cell_type": "markdown",
   "metadata": {},
   "source": [
    "可以从 sympy.abc直接导入单字母。\n",
    "\n",
    "可以用sympy.symbols定义多个符号。\n",
    "\n",
    "可以用sympy.var 声明符号。\n",
    "\n",
    "支持希腊字母，支持下标符号。"
   ]
  },
  {
   "cell_type": "code",
   "execution_count": 9,
   "metadata": {},
   "outputs": [],
   "source": [
    "from sympy.abc import p,q,r"
   ]
  },
  {
   "cell_type": "code",
   "execution_count": 10,
   "metadata": {},
   "outputs": [],
   "source": [
    "# 定义符号\n",
    "x,y,z,a,b,c = sympy.symbols('x,y,z,a,b,c')"
   ]
  },
  {
   "cell_type": "code",
   "execution_count": 11,
   "metadata": {},
   "outputs": [
    {
     "data": {
      "text/latex": [
       "$\\displaystyle \\lambda + \\rho^{2}$"
      ],
      "text/plain": [
       "lambda + rho**2"
      ]
     },
     "execution_count": 11,
     "metadata": {},
     "output_type": "execute_result"
    }
   ],
   "source": [
    "#使用希腊字母\n",
    "l, r = sympy.symbols('lambda rho')\n",
    "l + r**2"
   ]
  },
  {
   "cell_type": "code",
   "execution_count": 12,
   "metadata": {},
   "outputs": [
    {
     "data": {
      "text/plain": [
       "'\\\\left(p + q + \\\\rho\\\\right)^{2}'"
      ]
     },
     "execution_count": 12,
     "metadata": {},
     "output_type": "execute_result"
    }
   ],
   "source": [
    "#获取latex代码\n",
    "sympy.latex((p+q+r)**2)"
   ]
  },
  {
   "cell_type": "code",
   "execution_count": 13,
   "metadata": {},
   "outputs": [
    {
     "data": {
      "text/latex": [
       "$\\displaystyle x_{1}$"
      ],
      "text/plain": [
       "x_1"
      ]
     },
     "execution_count": 13,
     "metadata": {},
     "output_type": "execute_result"
    }
   ],
   "source": [
    "#声明 x_1, z_1 为符号\n",
    "#可以使用下标\n",
    "sympy.var('x_1  z_1')\n",
    "x_1"
   ]
  },
  {
   "cell_type": "code",
   "execution_count": 14,
   "metadata": {},
   "outputs": [
    {
     "data": {
      "text/latex": [
       "$\\displaystyle 0$"
      ],
      "text/plain": [
       "0"
      ]
     },
     "execution_count": 14,
     "metadata": {},
     "output_type": "execute_result"
    }
   ],
   "source": [
    "sympy.sin(pi)"
   ]
  },
  {
   "cell_type": "markdown",
   "metadata": {},
   "source": [
    "<style>\n",
    ".td{width:100px;overflow:hidden}\n",
    "</style>\n",
    "<table  style=\"width:100%\">\n",
    "<thead>\n",
    "<tr>\n",
    "  <th>假设的关键字参数</th>\n",
    "  <th>属性</th>\n",
    "  <th>描述</th>\n",
    "</tr>\n",
    "</thead>\n",
    "<tbody><tr>\n",
    "  <td>real, imaginary</td>\n",
    "  <td>is_real, is_imaginary</td>\n",
    "  <td>指定一个符号代表实数或虚数</td>\n",
    "</tr>\n",
    "<tr>\n",
    "  <td>positive, negative</td>\n",
    "  <td>is_positive, is_negative</td>\n",
    "  <td>指定一个符号代表正数或负数</td>\n",
    "</tr>\n",
    "<tr>\n",
    "  <td>integer</td>\n",
    "  <td>is_integer</td>\n",
    "  <td>该符号代表整数</td>\n",
    "</tr>\n",
    "<tr>\n",
    "  <td>odd, even</td>\n",
    "  <td>is_odd, is_even</td>\n",
    "  <td>该符号代表奇数或偶数</td>\n",
    "</tr>\n",
    "<tr>\n",
    "  <td>prime</td>\n",
    "  <td>is_prime</td>\n",
    "  <td>该符号代表质数</td>\n",
    "</tr>\n",
    "<tr>\n",
    "  <td>finite, infinite</td>\n",
    "  <td>is_finite, is_infinite</td>\n",
    "  <td>该符号代表有限或无限</td>\n",
    "</tr>\n",
    "</tbody></table>"
   ]
  },
  {
   "cell_type": "code",
   "execution_count": 15,
   "metadata": {},
   "outputs": [],
   "source": [
    "m = sympy.Symbol('m',real = True)\n",
    "n = sympy.Symbol('n',integer = True)\n",
    "t = sympy.Symbol('t')"
   ]
  },
  {
   "cell_type": "code",
   "execution_count": 17,
   "metadata": {},
   "outputs": [
    {
     "data": {
      "text/plain": [
       "True"
      ]
     },
     "execution_count": 17,
     "metadata": {},
     "output_type": "execute_result"
    }
   ],
   "source": [
    "m.is_real\n"
   ]
  },
  {
   "cell_type": "code",
   "execution_count": 16,
   "metadata": {},
   "outputs": [],
   "source": [
    "t.is_positive"
   ]
  },
  {
   "cell_type": "markdown",
   "metadata": {},
   "source": [
    "### 2，定义数字"
   ]
  },
  {
   "cell_type": "markdown",
   "metadata": {},
   "source": [
    "sympy里的定义的符号数字可以是任意精度的。\n",
    "\n",
    "可以用Integer,Float,Rational等类定义符号数字，也可以用S定义符号数字。"
   ]
  },
  {
   "cell_type": "code",
   "execution_count": 18,
   "metadata": {},
   "outputs": [],
   "source": [
    "from sympy import S "
   ]
  },
  {
   "cell_type": "code",
   "execution_count": null,
   "metadata": {},
   "outputs": [],
   "source": [
    "i = S(19)\n",
    "type(i)\n"
   ]
  },
  {
   "cell_type": "code",
   "execution_count": 19,
   "metadata": {},
   "outputs": [
    {
     "data": {
      "text/plain": [
       "sympy.core.numbers.Float"
      ]
     },
     "execution_count": 19,
     "metadata": {},
     "output_type": "execute_result"
    }
   ],
   "source": [
    "u = S(3.2)\n",
    "type(u)"
   ]
  },
  {
   "cell_type": "code",
   "execution_count": 20,
   "metadata": {},
   "outputs": [
    {
     "data": {
      "text/latex": [
       "$\\displaystyle \\frac{3}{17}$"
      ],
      "text/plain": [
       "3/17"
      ]
     },
     "execution_count": 20,
     "metadata": {},
     "output_type": "execute_result"
    }
   ],
   "source": [
    "v = S('3/17')\n",
    "v"
   ]
  },
  {
   "cell_type": "code",
   "execution_count": 21,
   "metadata": {},
   "outputs": [
    {
     "data": {
      "text/latex": [
       "$\\displaystyle \\sqrt{2}$"
      ],
      "text/plain": [
       "sqrt(2)"
      ]
     },
     "execution_count": 21,
     "metadata": {},
     "output_type": "execute_result"
    }
   ],
   "source": [
    "S('sqrt(2)')"
   ]
  },
  {
   "cell_type": "code",
   "execution_count": null,
   "metadata": {},
   "outputs": [],
   "source": []
  },
  {
   "cell_type": "markdown",
   "metadata": {},
   "source": [
    "### 3， 获取数值结果"
   ]
  },
  {
   "cell_type": "markdown",
   "metadata": {},
   "source": [
    "使用sympy.N或者表达式的n()方法，或者evalf()等方法可以将表达式转换成数值结果。\n",
    "\n",
    "如果要获得表达式对多个数值计算的结果，可以用lambdify将表达式中的函数转换成对应的numpy函数。"
   ]
  },
  {
   "cell_type": "code",
   "execution_count": 22,
   "metadata": {},
   "outputs": [],
   "source": [
    "from sympy import pi,sin,cos,exp,sqrt"
   ]
  },
  {
   "cell_type": "code",
   "execution_count": 23,
   "metadata": {},
   "outputs": [
    {
     "data": {
      "text/latex": [
       "$\\displaystyle 3.141592654$"
      ],
      "text/plain": [
       "3.141592654"
      ]
     },
     "execution_count": 23,
     "metadata": {},
     "output_type": "execute_result"
    }
   ],
   "source": [
    "pi.n(10)"
   ]
  },
  {
   "cell_type": "code",
   "execution_count": 24,
   "metadata": {
    "scrolled": true
   },
   "outputs": [
    {
     "data": {
      "text/latex": [
       "$\\displaystyle 3.141592654$"
      ],
      "text/plain": [
       "3.141592654"
      ]
     },
     "execution_count": 24,
     "metadata": {},
     "output_type": "execute_result"
    }
   ],
   "source": [
    "pi.evalf(10)"
   ]
  },
  {
   "cell_type": "code",
   "execution_count": 25,
   "metadata": {},
   "outputs": [
    {
     "data": {
      "text/latex": [
       "$\\displaystyle -2.0 \\cdot 10^{-155}$"
      ],
      "text/plain": [
       "-0.e-155"
      ]
     },
     "execution_count": 25,
     "metadata": {},
     "output_type": "execute_result"
    }
   ],
   "source": [
    "(sin(x)**2 + cos(x)**2 - 1).subs({x:1}).n(10)"
   ]
  },
  {
   "cell_type": "markdown",
   "metadata": {},
   "source": [
    "设置chop= True还可以将精度导致的小尾巴割掉。"
   ]
  },
  {
   "cell_type": "code",
   "execution_count": 26,
   "metadata": {
    "scrolled": true
   },
   "outputs": [
    {
     "data": {
      "text/latex": [
       "$\\displaystyle 0$"
      ],
      "text/plain": [
       "0"
      ]
     },
     "execution_count": 26,
     "metadata": {},
     "output_type": "execute_result"
    }
   ],
   "source": [
    "(sin(x)**2 + cos(x)**2 - 1).subs({x:1}).evalf(chop = True)"
   ]
  },
  {
   "cell_type": "markdown",
   "metadata": {},
   "source": [
    "将符号函数转换成对应数值函数"
   ]
  },
  {
   "cell_type": "code",
   "execution_count": 27,
   "metadata": {},
   "outputs": [
    {
     "data": {
      "text/plain": [
       "array([ 1.        ,  1.27051671,  1.40335322,  1.38411464,  1.21488575,\n",
       "        0.91400515,  0.5140779 ,  0.05844234, -0.40352636, -0.82176671,\n",
       "       -1.15095589, -1.35542114, -1.41300548, -1.31746875, -1.07916384,\n",
       "       -0.72391478, -0.29021832,  0.1749278 ,  0.62111777,  1.        ])"
      ]
     },
     "execution_count": 27,
     "metadata": {},
     "output_type": "execute_result"
    }
   ],
   "source": [
    "import numpy as np \n",
    "\n",
    "a = np.linspace(0,2*np.pi,20)\n",
    "\n",
    "f = sin(x) + cos(x)\n",
    "\n",
    "fn = sympy.lambdify(x,f,modules = 'numpy')\n",
    "\n",
    "fn(a)"
   ]
  },
  {
   "cell_type": "markdown",
   "metadata": {},
   "source": [
    "## 二，表达式和函数"
   ]
  },
  {
   "cell_type": "markdown",
   "metadata": {},
   "source": [
    "### 1，定义表达式"
   ]
  },
  {
   "cell_type": "markdown",
   "metadata": {},
   "source": [
    "符号的运算组合构成表达式，表达式是一种树形结构，由 func和args组成，表达式可以嵌套。\n",
    "\n",
    "含有symbols符号的算式会自动对常见的四则运算和乘方等运算符进行重载。\n",
    "\n",
    "使用sympy.sympify可以将字符串转换成对应的表达式。\n",
    "\n",
    "\n"
   ]
  },
  {
   "cell_type": "code",
   "execution_count": 28,
   "metadata": {},
   "outputs": [],
   "source": [
    "import sympy\n",
    "from sympy import S\n",
    "x,y,z,a,b,c = sympy.symbols('x,y,z,a,b,c')\n",
    "expr = a*x**2 + b*x + c"
   ]
  },
  {
   "cell_type": "code",
   "execution_count": 29,
   "metadata": {},
   "outputs": [
    {
     "data": {
      "text/plain": [
       "sympy.core.add.Add"
      ]
     },
     "execution_count": 29,
     "metadata": {},
     "output_type": "execute_result"
    }
   ],
   "source": [
    "expr.func  # 相当于mathematica中表达式的Head"
   ]
  },
  {
   "cell_type": "code",
   "execution_count": 30,
   "metadata": {},
   "outputs": [
    {
     "data": {
      "text/plain": [
       "(c, a*x**2, b*x)"
      ]
     },
     "execution_count": 30,
     "metadata": {},
     "output_type": "execute_result"
    }
   ],
   "source": [
    "expr.args # 相当于mathematica中表达式的Parts"
   ]
  },
  {
   "cell_type": "code",
   "execution_count": 31,
   "metadata": {},
   "outputs": [
    {
     "data": {
      "text/plain": [
       "True"
      ]
     },
     "execution_count": 31,
     "metadata": {},
     "output_type": "execute_result"
    }
   ],
   "source": [
    "# 以下为恒等式\n",
    "expr.func(*expr.args) == expr"
   ]
  },
  {
   "cell_type": "code",
   "execution_count": 32,
   "metadata": {},
   "outputs": [
    {
     "data": {
      "text/latex": [
       "$\\displaystyle a x^{2} + b x + c$"
      ],
      "text/plain": [
       "a*x**2 + b*x + c"
      ]
     },
     "execution_count": 32,
     "metadata": {},
     "output_type": "execute_result"
    }
   ],
   "source": [
    "#使用S从字符串定义表达式\n",
    "expr = sympy.S(\"a*x**2 + b*x + c\")\n",
    "expr"
   ]
  },
  {
   "cell_type": "code",
   "execution_count": 33,
   "metadata": {},
   "outputs": [
    {
     "data": {
      "text/plain": [
       "'Hold[Integrate[x^2, {x, 0, 2}]]'"
      ]
     },
     "execution_count": 33,
     "metadata": {},
     "output_type": "execute_result"
    }
   ],
   "source": [
    "# 转换为mathematica中表达式\n",
    "sympy.mathematica_code(sympy.Integral(x**2,(x,0,2)))"
   ]
  },
  {
   "cell_type": "code",
   "execution_count": null,
   "metadata": {},
   "outputs": [],
   "source": []
  },
  {
   "cell_type": "markdown",
   "metadata": {},
   "source": [
    "### 2，定义函数"
   ]
  },
  {
   "cell_type": "markdown",
   "metadata": {},
   "source": [
    "函数是从一组参数符号到一个表达式的映射。\n",
    "\n",
    "There are three types of functions implemented in SymPy:\n",
    "\n",
    "1) defined functions (in the sense that they can be evaluated) like\n",
    "   exp or sin; they have a name and a body:\n",
    "       $$f = exp$$\n",
    "       \n",
    "2) undefined function which have a name but no body. Undefined\n",
    "   functions can be defined using a Function class as follows:\n",
    "       $$f = Function('f')$$\n",
    "   (the result will be a Function instance)\n",
    "   \n",
    "3) anonymous function (or lambda function) which have a body (defined\n",
    "   with dummy variables) but have no name:\n",
    "       $$f = Lambda(x, exp(x)*x)$$\n",
    "       $$f = Lambda((x, y), exp(x)*y)$$\n",
    "       \n",
    "The fourth type of functions are composites, like $(sin + cos)(x)$; these work in\n",
    "SymPy core, but are not yet part of SymPy"
   ]
  },
  {
   "cell_type": "markdown",
   "metadata": {},
   "source": []
  },
  {
   "cell_type": "code",
   "execution_count": 34,
   "metadata": {},
   "outputs": [
    {
     "data": {
      "text/latex": [
       "$\\displaystyle \\frac{d^{2}}{d x^{2}} f{\\left(x \\right)}$"
      ],
      "text/plain": [
       "Derivative(f(x), (x, 2))"
      ]
     },
     "execution_count": 34,
     "metadata": {},
     "output_type": "execute_result"
    }
   ],
   "source": [
    "import sympy\n",
    "\n",
    "#Function定义函数：需要自定义eval才有body\n",
    "f = sympy.Function('f')\n",
    "f(x).diff(x).diff(x)"
   ]
  },
  {
   "cell_type": "code",
   "execution_count": 35,
   "metadata": {},
   "outputs": [
    {
     "data": {
      "text/latex": [
       "$\\displaystyle \\int\\limits_{1}^{10} g{\\left(x,y \\right)}\\, dx$"
      ],
      "text/plain": [
       "Integral(g(x, y), (x, 1, 10))"
      ]
     },
     "execution_count": 35,
     "metadata": {},
     "output_type": "execute_result"
    }
   ],
   "source": [
    "g = sympy.Function('g')\n",
    "g(x,y).integrate((x,1,10))"
   ]
  },
  {
   "cell_type": "code",
   "execution_count": 36,
   "metadata": {},
   "outputs": [],
   "source": [
    "from sympy import Function, S, oo, I, sin\n",
    "class sinxtox(sympy.Function):\n",
    "    @classmethod\n",
    "    def eval(cls, x):\n",
    "        if x is S(0):\n",
    "            return S(1)\n",
    "        elif x is S('oo'):\n",
    "             return S('0')\n",
    "        else:\n",
    "            return sin(x)/x\n"
   ]
  },
  {
   "cell_type": "code",
   "execution_count": 37,
   "metadata": {},
   "outputs": [
    {
     "data": {
      "text/latex": [
       "$\\displaystyle 1$"
      ],
      "text/plain": [
       "1"
      ]
     },
     "execution_count": 37,
     "metadata": {},
     "output_type": "execute_result"
    }
   ],
   "source": [
    "sinxtox(0)"
   ]
  },
  {
   "cell_type": "code",
   "execution_count": 38,
   "metadata": {},
   "outputs": [
    {
     "data": {
      "text/latex": [
       "$\\displaystyle 0$"
      ],
      "text/plain": [
       "0"
      ]
     },
     "execution_count": 38,
     "metadata": {},
     "output_type": "execute_result"
    }
   ],
   "source": [
    "sinxtox(oo)"
   ]
  },
  {
   "cell_type": "markdown",
   "metadata": {},
   "source": []
  },
  {
   "cell_type": "code",
   "execution_count": 39,
   "metadata": {},
   "outputs": [
    {
     "data": {
      "text/latex": [
       "$\\displaystyle \\frac{1}{e^{x} + 1}$"
      ],
      "text/plain": [
       "1/(exp(x) + 1)"
      ]
     },
     "execution_count": 39,
     "metadata": {},
     "output_type": "execute_result"
    }
   ],
   "source": [
    "import sympy \n",
    "\n",
    "#Lambda定义函数：无名字有body\n",
    "g = sympy.Lambda(x,1/(sympy.exp(x) + 1)) \n",
    "g(x)"
   ]
  },
  {
   "cell_type": "code",
   "execution_count": null,
   "metadata": {},
   "outputs": [],
   "source": [
    "# g.__name__ 将会报错"
   ]
  },
  {
   "cell_type": "code",
   "execution_count": 40,
   "metadata": {},
   "outputs": [
    {
     "data": {
      "text/latex": [
       "$\\displaystyle - \\frac{e^{x}}{\\left(e^{x} + 1\\right)^{2}} + \\frac{2 e^{2 x}}{\\left(e^{x} + 1\\right)^{3}}$"
      ],
      "text/plain": [
       "-exp(x)/(exp(x) + 1)**2 + 2*exp(2*x)/(exp(x) + 1)**3"
      ]
     },
     "execution_count": 40,
     "metadata": {},
     "output_type": "execute_result"
    }
   ],
   "source": [
    "g(x).diff(x).diff(x)"
   ]
  },
  {
   "cell_type": "code",
   "execution_count": 41,
   "metadata": {},
   "outputs": [
    {
     "data": {
      "text/latex": [
       "$\\displaystyle \\log{\\left(2 \\right)}$"
      ],
      "text/plain": [
       "log(2)"
      ]
     },
     "execution_count": 41,
     "metadata": {},
     "output_type": "execute_result"
    }
   ],
   "source": [
    "g(x).integrate((x,0,oo))"
   ]
  },
  {
   "cell_type": "code",
   "execution_count": 42,
   "metadata": {},
   "outputs": [
    {
     "data": {
      "text/plain": [
       "sympy.core.function.Lambda"
      ]
     },
     "execution_count": 42,
     "metadata": {},
     "output_type": "execute_result"
    }
   ],
   "source": [
    "type(g)"
   ]
  },
  {
   "cell_type": "markdown",
   "metadata": {},
   "source": [
    "以下定义函数的方式效果和lambda类似"
   ]
  },
  {
   "cell_type": "code",
   "execution_count": 43,
   "metadata": {},
   "outputs": [],
   "source": [
    "h = lambda p,p_:p*sympy.log(p_) + (1-p)*sympy.log(1-p_) "
   ]
  },
  {
   "cell_type": "code",
   "execution_count": 44,
   "metadata": {},
   "outputs": [
    {
     "data": {
      "text/plain": [
       "'<lambda>'"
      ]
     },
     "execution_count": 44,
     "metadata": {},
     "output_type": "execute_result"
    }
   ],
   "source": [
    "h.__name__"
   ]
  },
  {
   "cell_type": "code",
   "execution_count": 45,
   "metadata": {},
   "outputs": [
    {
     "data": {
      "text/latex": [
       "$\\displaystyle \\frac{x}{y} - \\frac{1 - x}{1 - y}$"
      ],
      "text/plain": [
       "x/y - (1 - x)/(1 - y)"
      ]
     },
     "execution_count": 45,
     "metadata": {},
     "output_type": "execute_result"
    }
   ],
   "source": [
    "h(x,y).diff(y)"
   ]
  },
  {
   "cell_type": "code",
   "execution_count": 46,
   "metadata": {},
   "outputs": [
    {
     "data": {
      "text/plain": [
       "function"
      ]
     },
     "execution_count": 46,
     "metadata": {},
     "output_type": "execute_result"
    }
   ],
   "source": [
    "type(h)"
   ]
  },
  {
   "cell_type": "markdown",
   "metadata": {},
   "source": [
    "### 3，表达式操控\n",
    "\n",
    "下面介绍表达式的因式分解，展开，化简，合并同类项，替换 等操作\n",
    "\n",
    "simplify, factor, expand, collect, apart,together, subs,xreplace, rewrite\n"
   ]
  },
  {
   "cell_type": "code",
   "execution_count": 47,
   "metadata": {},
   "outputs": [
    {
     "data": {
      "text/latex": [
       "$\\displaystyle 1$"
      ],
      "text/plain": [
       "1"
      ]
     },
     "execution_count": 47,
     "metadata": {},
     "output_type": "execute_result"
    }
   ],
   "source": [
    "import sympy\n",
    "from sympy import S\n",
    "from sympy import sin,cos,tan,cot,exp,log\n",
    "### 化简\n",
    "expr = sin(x)**2 + cos(x)**2\n",
    "#expr.simplify()\n",
    "sympy.simplify(expr)"
   ]
  },
  {
   "cell_type": "code",
   "execution_count": 48,
   "metadata": {},
   "outputs": [
    {
     "data": {
      "text/latex": [
       "$\\displaystyle \\left(x - 1\\right) \\left(x^{2} + x + 1\\right)$"
      ],
      "text/plain": [
       "(x - 1)*(x**2 + x + 1)"
      ]
     },
     "execution_count": 48,
     "metadata": {},
     "output_type": "execute_result"
    }
   ],
   "source": [
    "### 因式分解\n",
    "expr = x**3 - 1\n",
    "factors = sympy.factor(expr)\n",
    "factors "
   ]
  },
  {
   "cell_type": "code",
   "execution_count": 49,
   "metadata": {},
   "outputs": [
    {
     "data": {
      "text/latex": [
       "$\\displaystyle x^{3} - 1$"
      ],
      "text/plain": [
       "x**3 - 1"
      ]
     },
     "execution_count": 49,
     "metadata": {},
     "output_type": "execute_result"
    }
   ],
   "source": [
    "### 展开\n",
    "sympy.expand(factors)"
   ]
  },
  {
   "cell_type": "code",
   "execution_count": 50,
   "metadata": {},
   "outputs": [
    {
     "data": {
      "text/latex": [
       "$\\displaystyle x^{2} + 2 x + 1$"
      ],
      "text/plain": [
       "x**2 + 2*x + 1"
      ]
     },
     "execution_count": 50,
     "metadata": {},
     "output_type": "execute_result"
    }
   ],
   "source": [
    "### 替换\n",
    "expr = a*x**2 + b*x + c\n",
    "expr.subs({a:1,b:2,c:1})"
   ]
  },
  {
   "cell_type": "code",
   "execution_count": 51,
   "metadata": {},
   "outputs": [
    {
     "data": {
      "text/latex": [
       "$\\displaystyle \\frac{2 x - 1}{x^{2} + x + 1} - \\frac{1}{x + 4} + \\frac{3}{x}$"
      ],
      "text/plain": [
       "(2*x - 1)/(x**2 + x + 1) - 1/(x + 4) + 3/x"
      ]
     },
     "execution_count": 51,
     "metadata": {},
     "output_type": "execute_result"
    }
   ],
   "source": [
    "# apart 分式展开\n",
    "expr = (4*x**3 + 21*x**2 + 10*x + 12)/(x**4 + 5*x**3 + 5*x**2 + 4*x)\n",
    "ans = sympy.apart(expr)\n",
    "ans "
   ]
  },
  {
   "cell_type": "code",
   "execution_count": 52,
   "metadata": {},
   "outputs": [
    {
     "data": {
      "text/latex": [
       "$\\displaystyle \\frac{4 x^{3} + 21 x^{2} + 10 x + 12}{x \\left(x^{3} + 5 x^{2} + 5 x + 4\\right)}$"
      ],
      "text/plain": [
       "(4*x**3 + 21*x**2 + 10*x + 12)/(x*(x**3 + 5*x**2 + 5*x + 4))"
      ]
     },
     "execution_count": 52,
     "metadata": {},
     "output_type": "execute_result"
    }
   ],
   "source": [
    "# together 分式合并\n",
    "ans.together().expand().together()"
   ]
  },
  {
   "cell_type": "code",
   "execution_count": 53,
   "metadata": {},
   "outputs": [
    {
     "data": {
      "text/latex": [
       "$\\displaystyle a x^{2} z + x^{3} + x^{2} y + 5 x + y^{2}$"
      ],
      "text/plain": [
       "a*x**2*z + x**3 + x**2*y + 5*x + y**2"
      ]
     },
     "execution_count": 53,
     "metadata": {},
     "output_type": "execute_result"
    }
   ],
   "source": [
    "### 合并同类项\n",
    "expr = x**3 + x**2*y + a*x**2*z + y**2 + 5*x \n",
    "expr "
   ]
  },
  {
   "cell_type": "code",
   "execution_count": 54,
   "metadata": {},
   "outputs": [
    {
     "data": {
      "text/latex": [
       "$\\displaystyle x^{3} + x^{2} \\left(a z + y\\right) + 5 x + y^{2}$"
      ],
      "text/plain": [
       "x**3 + x**2*(a*z + y) + 5*x + y**2"
      ]
     },
     "execution_count": 54,
     "metadata": {},
     "output_type": "execute_result"
    }
   ],
   "source": [
    "result = sympy.collect(expr,x)\n",
    "result "
   ]
  },
  {
   "cell_type": "code",
   "execution_count": 55,
   "metadata": {},
   "outputs": [
    {
     "data": {
      "text/plain": [
       "{x**3: 1, x: 5, x**2: a*z + y, 1: y**2}"
      ]
     },
     "execution_count": 55,
     "metadata": {},
     "output_type": "execute_result"
    }
   ],
   "source": [
    "expr_dic  = sympy.collect(expr,x,evaluate= False)\n",
    "expr_dic"
   ]
  },
  {
   "cell_type": "code",
   "execution_count": 56,
   "metadata": {},
   "outputs": [
    {
     "data": {
      "text/latex": [
       "$\\displaystyle a z + y$"
      ],
      "text/plain": [
       "a*z + y"
      ]
     },
     "execution_count": 56,
     "metadata": {},
     "output_type": "execute_result"
    }
   ],
   "source": [
    "expr_dic[x**2]"
   ]
  },
  {
   "cell_type": "code",
   "execution_count": 57,
   "metadata": {},
   "outputs": [
    {
     "data": {
      "text/latex": [
       "$\\displaystyle y^{2} + y$"
      ],
      "text/plain": [
       "y**2 + y"
      ]
     },
     "execution_count": 57,
     "metadata": {},
     "output_type": "execute_result"
    }
   ],
   "source": [
    "(x**2 + x**4).subs(x**2, y)"
   ]
  },
  {
   "cell_type": "markdown",
   "metadata": {},
   "source": [
    "xreplace只会替换表达式中完全相同的项"
   ]
  },
  {
   "cell_type": "code",
   "execution_count": 58,
   "metadata": {},
   "outputs": [
    {
     "data": {
      "text/latex": [
       "$\\displaystyle x^{4} + y$"
      ],
      "text/plain": [
       "x**4 + y"
      ]
     },
     "execution_count": 58,
     "metadata": {},
     "output_type": "execute_result"
    }
   ],
   "source": [
    "(x**2 + x**4).xreplace({x**2: y})"
   ]
  },
  {
   "cell_type": "markdown",
   "metadata": {},
   "source": [
    "普通替换在逐个执行替换后会计算一次"
   ]
  },
  {
   "cell_type": "code",
   "execution_count": 59,
   "metadata": {},
   "outputs": [
    {
     "data": {
      "text/latex": [
       "$\\displaystyle 1$"
      ],
      "text/plain": [
       "1"
      ]
     },
     "execution_count": 59,
     "metadata": {},
     "output_type": "execute_result"
    }
   ],
   "source": [
    "((x + y)/y).subs({x + y: y, y: x + y})"
   ]
  },
  {
   "cell_type": "markdown",
   "metadata": {},
   "source": [
    "使用simultaneous让各个替换同时完成后进行计算"
   ]
  },
  {
   "cell_type": "code",
   "execution_count": 60,
   "metadata": {},
   "outputs": [
    {
     "data": {
      "text/latex": [
       "$\\displaystyle \\frac{y}{x + y}$"
      ],
      "text/plain": [
       "y/(x + y)"
      ]
     },
     "execution_count": 60,
     "metadata": {},
     "output_type": "execute_result"
    }
   ],
   "source": [
    "((x + y)/y).subs({x + y: y, y: x + y}, simultaneous=True)"
   ]
  },
  {
   "cell_type": "markdown",
   "metadata": {},
   "source": [
    "rewrite 可以应用数学恒等变换对表达式中的一些函数，用其它函数改写。"
   ]
  },
  {
   "cell_type": "code",
   "execution_count": 61,
   "metadata": {},
   "outputs": [
    {
     "data": {
      "text/latex": [
       "$\\displaystyle \\frac{2 \\tan{\\left(\\frac{x}{2} \\right)}}{\\tan^{2}{\\left(\\frac{x}{2} \\right)} + 1}$"
      ],
      "text/plain": [
       "2*tan(x/2)/(tan(x/2)**2 + 1)"
      ]
     },
     "execution_count": 61,
     "metadata": {},
     "output_type": "execute_result"
    }
   ],
   "source": [
    "sin(x).rewrite(tan)"
   ]
  },
  {
   "cell_type": "code",
   "execution_count": 62,
   "metadata": {},
   "outputs": [
    {
     "data": {
      "text/latex": [
       "$\\displaystyle x^{2} + \\frac{1 - \\tan^{2}{\\left(\\frac{x}{2} \\right)}}{\\tan^{2}{\\left(\\frac{x}{2} \\right)} + 1} + \\frac{2 \\tan{\\left(x \\right)}}{\\tan^{2}{\\left(x \\right)} + 1}$"
      ],
      "text/plain": [
       "x**2 + (1 - tan(x/2)**2)/(tan(x/2)**2 + 1) + 2*tan(x)/(tan(x)**2 + 1)"
      ]
     },
     "execution_count": 62,
     "metadata": {},
     "output_type": "execute_result"
    }
   ],
   "source": [
    "(sin(2*x) + cos(x) + x**2).rewrite([sin,cos],tan)"
   ]
  },
  {
   "cell_type": "code",
   "execution_count": 63,
   "metadata": {},
   "outputs": [
    {
     "data": {
      "text/latex": [
       "$\\displaystyle - \\frac{i \\left(e^{i x} - e^{- i x}\\right)}{2}$"
      ],
      "text/plain": [
       "-I*(exp(I*x) - exp(-I*x))/2"
      ]
     },
     "execution_count": 63,
     "metadata": {},
     "output_type": "execute_result"
    }
   ],
   "source": [
    "sin(x).rewrite(exp)"
   ]
  },
  {
   "cell_type": "code",
   "execution_count": 64,
   "metadata": {},
   "outputs": [
    {
     "data": {
      "text/latex": [
       "$\\displaystyle \\Gamma\\left(x + 1\\right)$"
      ],
      "text/plain": [
       "gamma(x + 1)"
      ]
     },
     "execution_count": 64,
     "metadata": {},
     "output_type": "execute_result"
    }
   ],
   "source": [
    "sympy.factorial(x).rewrite(sympy.gamma)"
   ]
  },
  {
   "cell_type": "markdown",
   "metadata": {},
   "source": [
    "## 三，方程和不等式"
   ]
  },
  {
   "cell_type": "markdown",
   "metadata": {},
   "source": [
    "### 1，方程求解"
   ]
  },
  {
   "cell_type": "markdown",
   "metadata": {},
   "source": [
    "方程求解有solve,solveset,linsolve等函数可以使用。"
   ]
  },
  {
   "cell_type": "code",
   "execution_count": 65,
   "metadata": {},
   "outputs": [],
   "source": [
    "import sympy\n",
    "from sympy import S, oo, pi, I, Eq \n",
    "from sympy import log,exp,sin,cos,tan,cot\n",
    "sympy.init_printing()\n",
    "x,y,z,a,b,c = sympy.symbols('x,y,z,a,b,c')"
   ]
  },
  {
   "cell_type": "code",
   "execution_count": 66,
   "metadata": {},
   "outputs": [
    {
     "data": {
      "image/png": "[encoded data removed]",
      "text/latex": [
       "$\\displaystyle \\left[ 1, \\  - \\frac{1}{2} - \\frac{\\sqrt{3} i}{2}, \\  - \\frac{1}{2} + \\frac{\\sqrt{3} i}{2}\\right]$"
      ],
      "text/plain": [
       "⎡     1   √3⋅ⅈ    1   √3⋅ⅈ⎤\n",
       "⎢1, - ─ - ────, - ─ + ────⎥\n",
       "⎣     2    2      2    2  ⎦"
      ]
     },
     "execution_count": 66,
     "metadata": {},
     "output_type": "execute_result"
    }
   ],
   "source": [
    "#解方程 x**3-1==0\n",
    "equation = x**3 -1 \n",
    "sympy.solve(equation,x)\n",
    "\n"
   ]
  },
  {
   "cell_type": "code",
   "execution_count": 67,
   "metadata": {},
   "outputs": [
    {
     "data": {
      "image/png": "[encoded data removed]",
      "text/latex": [
       "$\\displaystyle \\left[ \\left( - \\frac{2}{5} + \\frac{2 \\sqrt{46}}{5}, \\  \\frac{4}{5} + \\frac{\\sqrt{46}}{5}\\right), \\  \\left( - \\frac{2 \\sqrt{46}}{5} - \\frac{2}{5}, \\  \\frac{4}{5} - \\frac{\\sqrt{46}}{5}\\right)\\right]$"
      ],
      "text/plain": [
       "⎡⎛  2   2⋅√46  4   √46⎞  ⎛  2⋅√46   2  4   √46⎞⎤\n",
       "⎢⎜- ─ + ─────, ─ + ───⎟, ⎜- ───── - ─, ─ - ───⎟⎥\n",
       "⎣⎝  5     5    5    5 ⎠  ⎝    5     5  5    5 ⎠⎦"
      ]
     },
     "execution_count": 67,
     "metadata": {},
     "output_type": "execute_result"
    }
   ],
   "source": [
    "#解方程组\n",
    "ans = sympy.solve((x**2 + y**2-10,2*y - x - 2),[x,y])\n",
    "ans "
   ]
  },
  {
   "cell_type": "code",
   "execution_count": 68,
   "metadata": {},
   "outputs": [
    {
     "data": {
      "image/png": "[encoded data removed]",
      "text/latex": [
       "$\\displaystyle \\left[ \\left[ 2.31293199325011, \\  2.15646599662505\\right], \\  \\left[ -3.11293199325011, \\  -0.556465996625054\\right]\\right]$"
      ],
      "text/plain": [
       "[[2.31293199325011, 2.15646599662505], [-3.11293199325011, -0.556465996625054]]"
      ]
     },
     "execution_count": 68,
     "metadata": {},
     "output_type": "execute_result"
    }
   ],
   "source": [
    "[[x.n() for x in y] for y in ans]"
   ]
  },
  {
   "cell_type": "code",
   "execution_count": 69,
   "metadata": {},
   "outputs": [
    {
     "data": {
      "image/png": "[encoded data removed]",
      "text/latex": [
       "$\\displaystyle \\left[ \\frac{\\pi}{6}, \\  \\frac{5 \\pi}{6}\\right]$"
      ],
      "text/plain": [
       "⎡π  5⋅π⎤\n",
       "⎢─, ───⎥\n",
       "⎣6   6 ⎦"
      ]
     },
     "execution_count": 69,
     "metadata": {},
     "output_type": "execute_result"
    }
   ],
   "source": [
    "sympy.solve(2* sin(x)-1,x)"
   ]
  },
  {
   "cell_type": "code",
   "execution_count": 70,
   "metadata": {},
   "outputs": [
    {
     "data": {
      "image/png": "[encoded data removed]",
      "text/latex": [
       "$\\displaystyle \\left\\{\\left( \\frac{13}{7}, \\  - \\frac{4}{7}\\right)\\right\\}$"
      ],
      "text/plain": [
       "{(13/7, -4/7)}"
      ]
     },
     "execution_count": 70,
     "metadata": {},
     "output_type": "execute_result"
    }
   ],
   "source": [
    "# linsolve可以求解线性方程组\n",
    "result = sympy.linsolve([x*2 + y*3 -2, x*3+y-5],x,y)\n",
    "result"
   ]
  },
  {
   "cell_type": "code",
   "execution_count": 71,
   "metadata": {},
   "outputs": [
    {
     "data": {
      "image/png": "[encoded data removed]",
      "text/latex": [
       "$\\displaystyle \\left\\{\\left( - y - 1, \\  y, \\  2\\right)\\right\\}$"
      ],
      "text/plain": [
       "{(-y - 1, y, 2)}"
      ]
     },
     "execution_count": 71,
     "metadata": {},
     "output_type": "execute_result"
    }
   ],
   "source": [
    "sympy.linsolve(sympy.Matrix(([1, 1, 1, 1], [1, 1, 2, 3])), (x, y, z))"
   ]
  },
  {
   "cell_type": "code",
   "execution_count": 72,
   "metadata": {},
   "outputs": [
    {
     "data": {
      "image/png": "[encoded data removed]",
      "text/latex": [
       "$\\displaystyle \\left\\{\\left( - y - 1, \\  y, \\  2\\right)\\right\\}$"
      ],
      "text/plain": [
       "{(-y - 1, y, 2)}"
      ]
     },
     "execution_count": 72,
     "metadata": {},
     "output_type": "execute_result"
    }
   ],
   "source": [
    "M = sympy.Matrix(((1, 1, 1, 1), (1, 1, 2, 3)))\n",
    "system = A, b = M[:, :-1], M[:, -1]\n",
    "sympy.linsolve(system, x, y, z)"
   ]
  },
  {
   "cell_type": "code",
   "execution_count": 73,
   "metadata": {},
   "outputs": [
    {
     "data": {
      "image/png": "[encoded data removed]",
      "text/latex": [
       "$\\displaystyle \\left\\{2\\right\\}$"
      ],
      "text/plain": [
       "{2}"
      ]
     },
     "execution_count": 73,
     "metadata": {},
     "output_type": "execute_result"
    }
   ],
   "source": [
    "#solveset将结果以集合形式呈现。\n",
    "\n",
    "sympy.solveset(Eq(x**3,8), x,domain= S.Reals)"
   ]
  },
  {
   "cell_type": "code",
   "execution_count": 74,
   "metadata": {},
   "outputs": [
    {
     "data": {
      "image/png": "[encoded data removed]",
      "text/latex": [
       "$\\displaystyle \\left\\{2 n \\pi + \\frac{\\pi}{2}\\; \\middle|\\; n \\in \\mathbb{Z}\\right\\}$"
      ],
      "text/plain": [
       "⎧        π │      ⎫\n",
       "⎨2⋅n⋅π + ─ │ n ∊ ℤ⎬\n",
       "⎩        2 │      ⎭"
      ]
     },
     "execution_count": 74,
     "metadata": {},
     "output_type": "execute_result"
    }
   ],
   "source": [
    "sympy.solveset(sin(x) - 1, x, domain=S.Reals)"
   ]
  },
  {
   "cell_type": "markdown",
   "metadata": {},
   "source": [
    "### 2，不等式求解"
   ]
  },
  {
   "cell_type": "markdown",
   "metadata": {},
   "source": [
    "不等式求解可以使用reduce_inequalities或者solve或者solveset等方法"
   ]
  },
  {
   "cell_type": "code",
   "execution_count": 75,
   "metadata": {},
   "outputs": [],
   "source": [
    "import sympy\n",
    "from sympy import S, oo, pi, I \n",
    "from sympy import log,exp,sin,cos,tan,cot\n",
    "\n",
    "sympy.init_printing(pretty_print=True)\n",
    "x,y,z,a,b,c = sympy.symbols('x,y,z,a,b,c')"
   ]
  },
  {
   "cell_type": "code",
   "execution_count": 76,
   "metadata": {},
   "outputs": [
    {
     "data": {
      "image/png": "[encoded data removed]",
      "text/latex": [
       "$\\displaystyle \\left(0 \\leq x \\wedge x < \\frac{\\pi}{6}\\right) \\vee \\left(\\frac{5 \\pi}{6} < x \\wedge x < 2 \\pi\\right)$"
      ],
      "text/plain": [
       "⎛            π⎞   ⎛5⋅π              ⎞\n",
       "⎜0 ≤ x ∧ x < ─⎟ ∨ ⎜─── < x ∧ x < 2⋅π⎟\n",
       "⎝            6⎠   ⎝ 6               ⎠"
      ]
     },
     "execution_count": 76,
     "metadata": {},
     "output_type": "execute_result"
    }
   ],
   "source": [
    "sympy.reduce_inequalities(2*sin(x)<1, x)"
   ]
  },
  {
   "cell_type": "code",
   "execution_count": 77,
   "metadata": {},
   "outputs": [
    {
     "data": {
      "image/png": "[encoded data removed]",
      "text/latex": [
       "$\\displaystyle \\left(-\\infty < x \\wedge x < - \\sqrt{2} - 1\\right) \\vee \\left(x < 1 \\wedge -1 + \\sqrt{2} < x\\right)$"
      ],
      "text/plain": [
       "(-∞ < x ∧ x < -√2 - 1) ∨ (x < 1 ∧ -1 + √2 < x)"
      ]
     },
     "execution_count": 77,
     "metadata": {},
     "output_type": "execute_result"
    }
   ],
   "source": [
    "sympy.reduce_inequalities([x**2 + 2*x>1, x<1], x)"
   ]
  },
  {
   "cell_type": "code",
   "execution_count": 78,
   "metadata": {},
   "outputs": [
    {
     "data": {
      "image/png": "[encoded data removed]",
      "text/latex": [
       "$\\displaystyle \\left(-\\infty < x \\wedge x < - \\sqrt{14} - 2\\right) \\vee \\left(x < 10 \\wedge -2 + \\sqrt{14} < x\\right)$"
      ],
      "text/plain": [
       "(-∞ < x ∧ x < -√14 - 2) ∨ (x < 10 ∧ -2 + √14 < x)"
      ]
     },
     "execution_count": 78,
     "metadata": {},
     "output_type": "execute_result"
    }
   ],
   "source": [
    "sympy.solve([x**2+4*x > 10,x<10],x,domain= S.Reals)"
   ]
  },
  {
   "cell_type": "code",
   "execution_count": 79,
   "metadata": {},
   "outputs": [
    {
     "data": {
      "image/png": "[encoded data removed]",
      "text/latex": [
       "$\\displaystyle \\left(-\\infty, - \\sqrt{14} - 2\\right) \\cup \\left(-2 + \\sqrt{14}, \\infty\\right)$"
      ],
      "text/plain": [
       "(-∞, -√14 - 2) ∪ (-2 + √14, ∞)"
      ]
     },
     "execution_count": 79,
     "metadata": {},
     "output_type": "execute_result"
    }
   ],
   "source": [
    "sympy.solveset(x**2+4*x > 10,x,domain= S.Reals)"
   ]
  },
  {
   "cell_type": "markdown",
   "metadata": {},
   "source": [
    "## 四， 函数可视化"
   ]
  },
  {
   "cell_type": "markdown",
   "metadata": {},
   "source": [
    "### 1，plot范例"
   ]
  },
  {
   "cell_type": "code",
   "execution_count": 80,
   "metadata": {},
   "outputs": [
    {
     "data": {
      "image/png": "[encoded data removed]",
      "text/plain": [
       "<Figure size 640x480 with 1 Axes>"
      ]
     },
     "metadata": {},
     "output_type": "display_data"
    },
    {
     "data": {
      "text/plain": [
       "<sympy.plotting.backends.matplotlibbackend.matplotlib.MatplotlibBackend at 0x12a7bf880>"
      ]
     },
     "execution_count": 80,
     "metadata": {},
     "output_type": "execute_result"
    }
   ],
   "source": [
    "import sympy\n",
    "from sympy import S,pi,exp,log,sin,cos,tan,cot,sqrt\n",
    "import matplotlib \n",
    "%matplotlib inline \n",
    "sympy.plot(sin(x) + cos(x), (x, -pi, pi))"
   ]
  },
  {
   "cell_type": "code",
   "execution_count": 81,
   "metadata": {},
   "outputs": [
    {
     "data": {
      "image/png": "[encoded data removed]",
      "text/plain": [
       "<Figure size 640x480 with 1 Axes>"
      ]
     },
     "metadata": {},
     "output_type": "display_data"
    }
   ],
   "source": [
    "p1 = sympy.plot(sin(x), (x, 0, 2*pi),line_color = 'red' )\n"
   ]
  },
  {
   "cell_type": "code",
   "execution_count": 82,
   "metadata": {},
   "outputs": [],
   "source": [
    "g1= sympy.plot(cos(x),(x,0,2*pi),show = False,line_color = 'green',ylabel = False)\n",
    "g2 = sympy.plot(sin(x),(x,0,2*pi),show = False,line_color = 'red')\n",
    "g1.append(g2[0])\n"
   ]
  },
  {
   "cell_type": "code",
   "execution_count": 83,
   "metadata": {},
   "outputs": [
    {
     "data": {
      "image/png": "[encoded data removed]",
      "text/plain": [
       "<Figure size 640x480 with 1 Axes>"
      ]
     },
     "metadata": {},
     "output_type": "display_data"
    }
   ],
   "source": [
    "g1.show()"
   ]
  },
  {
   "cell_type": "markdown",
   "metadata": {},
   "source": [
    "### 2，plot3d范例"
   ]
  },
  {
   "cell_type": "code",
   "execution_count": 84,
   "metadata": {},
   "outputs": [
    {
     "data": {
      "image/png": "[encoded data removed]",
      "text/plain": [
       "<Figure size 640x480 with 1 Axes>"
      ]
     },
     "metadata": {},
     "output_type": "display_data"
    },
    {
     "data": {
      "text/plain": [
       "<sympy.plotting.backends.matplotlibbackend.matplotlib.MatplotlibBackend at 0x13b50a230>"
      ]
     },
     "execution_count": 84,
     "metadata": {},
     "output_type": "execute_result"
    }
   ],
   "source": [
    "import sympy\n",
    "from sympy import S,pi,exp,log,sin,cos,tan,cot,sqrt\n",
    "import matplotlib \n",
    "%matplotlib inline \n",
    "sympy.plotting.plot3d(x*exp(-x**2-y**2), (x, -3, 3), (y, -2, 2))"
   ]
  },
  {
   "cell_type": "code",
   "execution_count": null,
   "metadata": {},
   "outputs": [],
   "source": []
  },
  {
   "cell_type": "markdown",
   "metadata": {},
   "source": [
    "### 3，textplot范例"
   ]
  },
  {
   "cell_type": "markdown",
   "metadata": {},
   "source": [
    "基于纯文本可视化，不需要matplotlib"
   ]
  },
  {
   "cell_type": "code",
   "execution_count": 85,
   "metadata": {},
   "outputs": [
    {
     "name": "stdout",
     "output_type": "stream",
     "text": [
      "      1 |     ..                     ..                    ...  \n",
      "        |    .  \\                   /  .                  .     \n",
      "        |        .                 .                          . \n",
      "        |   .                           .                .     \\\n",
      "        |         .               .                             \n",
      "        |  .                             .              .       \n",
      "        |          .             .                              \n",
      "        | .                               .                     \n",
      "        |                                              .        \n",
      "        |           .           .                               \n",
      "      0 |.---------------------------------.--------------------\n",
      "        |                                             .         \n",
      "        |            .         .                                \n",
      "        |                                   .        .          \n",
      "        |                     .                                 \n",
      "        |             .                      .                  \n",
      "        |                                           .           \n",
      "        |              .     .                                  \n",
      "        |                   .                 .    .            \n",
      "        |               .                      \\  /             \n",
      "     -1 |_______________________________________________________\n",
      "         0                          7.5                        15\n"
     ]
    }
   ],
   "source": [
    "import sympy \n",
    "from sympy import sin\n",
    "sympy.textplot(sin(t), 0, 15)"
   ]
  }
 ],
 "metadata": {
  "kernelspec": {
   "display_name": "Python 3 (ipykernel)",
   "language": "python",
   "name": "python3"
  },
  "language_info": {
   "codemirror_mode": {
    "name": "ipython",
    "version": 3
   },
   "file_extension": ".py",
   "mimetype": "text/x-python",
   "name": "python",
   "nbconvert_exporter": "python",
   "pygments_lexer": "ipython3",
   "version": "3.10.6"
  }
 },
 "nbformat": 4,
 "nbformat_minor": 4
}
